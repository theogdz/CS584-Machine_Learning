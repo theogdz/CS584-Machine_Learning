{
 "cells": [
  {
   "cell_type": "markdown",
   "metadata": {
    "id": "8iwaee_T-Urj"
   },
   "source": [
    "# Assignment 2 - Logistic Regression\n",
    "> **FULL MARKS = 10**\n",
    "\n",
    "In this assignment, you are going to implement your own logistic Regression function. Please notice **no** library versions of logistic regression are allowed. Follow the instructions, you will need to fill the blanks to make it functional. The process is similar to the previous assignment. "
   ]
  },
  {
   "cell_type": "markdown",
   "metadata": {
    "id": "FWwuN_B5D73w"
   },
   "source": [
    "***Initialization***"
   ]
  },
  {
   "cell_type": "markdown",
   "metadata": {
    "id": "-H_r0Tz6gu4c"
   },
   "source": [
    "*No more library allowed*"
   ]
  },
  {
   "cell_type": "code",
   "execution_count": 1,
   "metadata": {
    "id": "9M1DAu9XPY8E"
   },
   "outputs": [],
   "source": [
    "# load required library\n",
    "import matplotlib.pyplot as plt\n",
    "import numpy as np\n",
    "from sklearn.datasets import load_iris\n",
    "import scipy.optimize as opt"
   ]
  },
  {
   "cell_type": "markdown",
   "metadata": {
    "id": "4LdQ5yubLJld"
   },
   "source": [
    "Load data *(Do not modify)*\n",
    "_________\n",
    "\n",
    "We use 100 samples and 2 features. \n"
   ]
  },
  {
   "cell_type": "code",
   "execution_count": 2,
   "metadata": {
    "id": "ipOG3LQfjQMh",
    "pycharm": {
     "name": "#%%\n"
    }
   },
   "outputs": [],
   "source": [
    "x, y = load_iris(return_X_y=True)"
   ]
  },
  {
   "cell_type": "code",
   "execution_count": 3,
   "metadata": {
    "id": "7EpIS82ED4vr"
   },
   "outputs": [],
   "source": [
    "x=x[:100, :2] # class 0 and 1 balanced\n",
    "y=y[:100]"
   ]
  },
  {
   "cell_type": "markdown",
   "metadata": {
    "id": "33XtealSjQMk"
   },
   "source": [
    "**Visualize data**\n",
    "___________"
   ]
  },
  {
   "cell_type": "code",
   "execution_count": 4,
   "metadata": {
    "id": "V5KwBYiT-J3x"
   },
   "outputs": [],
   "source": [
    "# draw raw data\n",
    "def draw_data(x,y):\n",
    "    \n",
    "    #########################################################################\n",
    "    # Full Mark: 1                                                          #    \n",
    "    # TODO:                                                                 #\n",
    "    # 1. make a scatter plot of the raw data                                #\n",
    "    # 2. set title for the plot                                             #\n",
    "    # 3. set label for x,y axis                                             #\n",
    "    # Note, this scatter plot has two different type of points              #\n",
    "    #########################################################################\n",
    "    fullDataSet = np.c_[x,y]\n",
    "    Setosa = fullDataSet[np.where(fullDataSet[:,2] == 0)]\n",
    "    Versicolor = fullDataSet[np.where(fullDataSet[:,2] == 1)]\n",
    "    plt.title(\"Iris\")\n",
    "    plt.xlabel(\"Sepal length\")\n",
    "    plt.ylabel(\"Sepal Width\")\n",
    "    plt.scatter(Setosa[:,0],Setosa[:,1],label = \"Setosa\")\n",
    "    plt.scatter(Versicolor[:,0],Versicolor[:,1],label = \"Versicolor\")\n",
    "    plt.legend()\n",
    "    #########################################################################\n",
    "    #                       END OF YOUR CODE                                #\n",
    "    #########################################################################\n",
    "\n",
    "    # show plot\n",
    "    plt.show()"
   ]
  },
  {
   "cell_type": "markdown",
   "metadata": {
    "id": "6jyZEY2f-ZlQ"
   },
   "source": [
    "Your plot should be similar to the example below"
   ]
  },
  {
   "cell_type": "code",
   "execution_count": 5,
   "metadata": {
    "colab": {
     "base_uri": "https://localhost:8080/",
     "height": 295
    },
    "id": "0X1EdMDdMpHR",
    "outputId": "e138463c-99a1-422e-ad83-c0ee78c36089"
   },
   "outputs": [
    {
     "data": {
      "image/png": "[encoded data removed]",
      "text/plain": [
       "<Figure size 432x288 with 1 Axes>"
      ]
     },
     "metadata": {
      "needs_background": "light"
     },
     "output_type": "display_data"
    }
   ],
   "source": [
    "draw_data(x,y)"
   ]
  },
  {
   "cell_type": "markdown",
   "metadata": {
    "id": "sknkLiYZjaJo"
   },
   "source": [
    "**Sigmoid function**\n",
    "________________"
   ]
  },
  {
   "cell_type": "code",
   "execution_count": 6,
   "metadata": {
    "id": "wszqzBT9xRgj"
   },
   "outputs": [],
   "source": [
    "# please do not modify this cell\n",
    "x = np.concatenate((np.array([np.ones(len(y))]).T, x), axis=1)\n",
    "theta = np.zeros(x.shape[1])"
   ]
  },
  {
   "cell_type": "markdown",
   "metadata": {
    "id": "qfM7gVinsixJ"
   },
   "source": [
    "**You can decide by yourselves whether to split the dataset to training and testing. The training and testing datasets spliting is not a part of the assignment 2 as you have done that in assignmnet 1. Without spliting, you can just report the accuracy on training dataset. **"
   ]
  },
  {
   "cell_type": "code",
   "execution_count": 7,
   "metadata": {
    "id": "AsCvUXe1jQMq",
    "pycharm": {
     "name": "#%%\n"
    }
   },
   "outputs": [],
   "source": [
    "# define sigmoid function\n",
    "# math: refer to https://en.wikipedia.org/wiki/Sigmoid_function or slides\n",
    "def sigmoid(theta, X):\n",
    "    #########################################################################\n",
    "    # Full Mark: 1                                                          # \n",
    "    # TODO:                                                                 #\n",
    "    # 1. implement the sigmoid function over input theta and X\n",
    "    #########################################################################\n",
    "    s = np.dot(X,theta)\n",
    "    s = 1 / (1 + np.exp(-s))\n",
    "    #########################################################################\n",
    "    #                       END OF YOUR CODE                                #\n",
    "    #########################################################################\n",
    "    \n",
    "    return s"
   ]
  },
  {
   "cell_type": "markdown",
   "metadata": {
    "id": "4Layck69jdEU"
   },
   "source": [
    "**Cost function**\n",
    "____________"
   ]
  },
  {
   "cell_type": "code",
   "execution_count": 8,
   "metadata": {
    "id": "oUtUiAqBjQMw",
    "pycharm": {
     "name": "#%%\n"
    }
   },
   "outputs": [],
   "source": [
    "# define cost function with sigmoid function\n",
    "def cost(theta, X, y):\n",
    "    #########################################################################\n",
    "    # Full Mark: 2                                                          # \n",
    "    # TODO:                                                                 #\n",
    "    # 1. implement the cross entropy loss function with sigmoid             #\n",
    "    #########################################################################\n",
    "    m = X.shape[0]\n",
    "    co = -(1 / m) * np.sum(y * np.log(sigmoid(theta, X)) + (1 - y) * np.log(\n",
    "            1 - sigmoid(theta, X)))\n",
    "    #########################################################################\n",
    "    #                       END OF YOUR CODE                                #\n",
    "    #########################################################################\n",
    "    return co"
   ]
  },
  {
   "cell_type": "markdown",
   "metadata": {
    "id": "fw9RGgRojgzY"
   },
   "source": [
    "**Calculate gradients**\n",
    "________________"
   ]
  },
  {
   "cell_type": "code",
   "execution_count": 9,
   "metadata": {
    "id": "shm404iFjQM5",
    "pycharm": {
     "name": "#%%\n"
    }
   },
   "outputs": [],
   "source": [
    "# the gradient of the cost is a vector of the same length as θ where the jth element (for j = 0, 1, . . . , n)\n",
    "def gradient(theta, X, y):\n",
    "    #########################################################################\n",
    "    # Full Mark: 2                                                          # \n",
    "    # TODO:                                                                 #\n",
    "    # 1. calculate the gradients using theta and sigmoid                    #\n",
    "    # Hint: X may need to be transposed to do matrix operation              #\n",
    "    #########################################################################\n",
    "    m = X.shape[0]\n",
    "    grad = (1 / m) * np.dot(X.T, sigmoid(theta,X) - y)\n",
    "    #########################################################################\n",
    "    #                       END OF YOUR CODE                                #\n",
    "    #########################################################################\n",
    "    return grad"
   ]
  },
  {
   "cell_type": "markdown",
   "metadata": {
    "id": "TzEZlyZjtYDJ"
   },
   "source": [
    "**Predicting**\n",
    "________________"
   ]
  },
  {
   "cell_type": "code",
   "execution_count": 10,
   "metadata": {
    "id": "4-hauHHLLyh-"
   },
   "outputs": [],
   "source": [
    "# predict for new X\n",
    "def predict(theta, X):\n",
    "    #########################################################################\n",
    "    # Full Mark: 1                                                          # \n",
    "    # TODO:                                                                 #\n",
    "    # 1. predict the value using theta and sigmoid                          #\n",
    "    # 2. convert the predicted value to 0/1                                 #\n",
    "    # That's how it is called Logistic regression                           #\n",
    "    #########################################################################\n",
    "    predict_labels = sigmoid(theta, X)\n",
    "    for i,j in enumerate(predict_labels):\n",
    "      if j < .5:\n",
    "        predict_labels[i] = 0\n",
    "      else:\n",
    "        predict_labels[i] = 1\n",
    "    #########################################################################\n",
    "    #                       END OF YOUR CODE                                #\n",
    "    #########################################################################\n",
    "    return predict_labels"
   ]
  },
  {
   "cell_type": "markdown",
   "metadata": {
    "id": "nN9AOS3UtYsr"
   },
   "source": [
    "**Calculate accuracy**\n",
    "________________"
   ]
  },
  {
   "cell_type": "code",
   "execution_count": 11,
   "metadata": {
    "id": "ixEjN3TbwiPS"
   },
   "outputs": [],
   "source": [
    "# calculate accuracy\n",
    "def accurate(predictions, y):\n",
    "    #########################################################################\n",
    "    # Full Mark: 1                                                          # \n",
    "    # TODO:                                                                 #\n",
    "    # 1. calculate the accuracy value                                       #\n",
    "    # Note that you coud not import extra library                           #\n",
    "    #########################################################################\n",
    "    accuracy_score = np.mean(predictions == y) * 100\n",
    "    #########################################################################\n",
    "    #                       END OF YOUR CODE                                #\n",
    "    #########################################################################\n",
    "    return accuracy_score"
   ]
  },
  {
   "cell_type": "markdown",
   "metadata": {
    "id": "oXGba_YxMe3-"
   },
   "source": [
    "**Calling functions**\n",
    "________"
   ]
  },
  {
   "cell_type": "code",
   "execution_count": 12,
   "metadata": {
    "colab": {
     "base_uri": "https://localhost:8080/"
    },
    "id": "DAg50iSeMbdz",
    "outputId": "7c2bcf08-e31e-409d-e3c9-9117322f8e05"
   },
   "outputs": [
    {
     "name": "stdout",
     "output_type": "stream",
     "text": [
      "final cost is 0.051716623687215364\n",
      "accuracy is 99.0\n"
     ]
    },
    {
     "name": "stderr",
     "output_type": "stream",
     "text": [
      "<ipython-input-8-3bfb75e6caad>:9: RuntimeWarning: divide by zero encountered in log\n",
      "  co = -(1 / m) * np.sum(y * np.log(sigmoid(theta, X)) + (1 - y) * np.log(\n",
      "<ipython-input-8-3bfb75e6caad>:9: RuntimeWarning: invalid value encountered in multiply\n",
      "  co = -(1 / m) * np.sum(y * np.log(sigmoid(theta, X)) + (1 - y) * np.log(\n"
     ]
    }
   ],
   "source": [
    "# please do not modify this cell\n",
    "result = opt.fmin_tnc(func=cost, x0=theta, fprime=gradient, args=(x, y))\n",
    "final_theta = result[0]\n",
    "final_cost = cost(final_theta, x, y)\n",
    "predictions = predict(final_theta, x)\n",
    "accuracy = accurate(predictions, y)\n",
    "print(\"final cost is \" + str(final_cost))\n",
    "print(\"accuracy is \" + str(accuracy))"
   ]
  },
  {
   "cell_type": "markdown",
   "metadata": {
    "id": "5oqofQH5OKuj"
   },
   "source": [
    "**Decsion boudary** "
   ]
  },
  {
   "cell_type": "code",
   "execution_count": 13,
   "metadata": {
    "id": "EBJmxm-Y4USK"
   },
   "outputs": [],
   "source": [
    "# draw decision boudary\n",
    "def draw_decision_boudary(final_theta,x,y):\n",
    "    #########################################################################\n",
    "    # Full Mark: 2                                                          # \n",
    "    # TODO:                                                                 #\n",
    "    # 1. plot the decision boudary on the raw data                          #\n",
    "    # 2. set title for the plot                                             #\n",
    "    # 3. set label for x,y axis                                             #\n",
    "    # Note, this scatter plot has two different type of points              #\n",
    "    #########################################################################\n",
    "    x_values = [np.min(x[:, 0]-1), np.max(x[:, 1]+3)]\n",
    "    y_values = - (final_theta[0] + np.dot(final_theta[1], x_values)) / final_theta[2]\n",
    "    plt.clf()\n",
    "    fullDataSet = np.c_[x,y]\n",
    "    Setosa = fullDataSet[np.where(fullDataSet[:,2] == 0)]\n",
    "    Versicolor = fullDataSet[np.where(fullDataSet[:,2] == 1)]\n",
    "    plt.title(\"Iris\")\n",
    "    plt.xlabel(\"Sepal length\")\n",
    "    plt.ylabel(\"Sepal Width\")\n",
    "    plt.scatter(Setosa[:,0],Setosa[:,1],label = \"Setosa\")\n",
    "    plt.scatter(Versicolor[:,0],Versicolor[:,1],label = \"Versicolor\")\n",
    "    plt.plot(x_values, y_values,label='Decision Boundary')\n",
    "    plt.legend()\n",
    "\n",
    "    #########################################################################\n",
    "    #                       END OF YOUR CODE                                #\n",
    "    #########################################################################\n",
    "\n",
    "    # show plot\n",
    "    plt.show()"
   ]
  },
  {
   "cell_type": "markdown",
   "metadata": {
    "id": "PkIodLiurfW-"
   },
   "source": [
    "Your plot should be similar to the example below"
   ]
  },
  {
   "cell_type": "code",
   "execution_count": 14,
   "metadata": {
    "colab": {
     "base_uri": "https://localhost:8080/",
     "height": 295
    },
    "id": "ButrhJxIuyqj",
    "outputId": "a501f72b-10bd-48fe-c54f-f34786c10f2f"
   },
   "outputs": [
    {
     "data": {
      "image/png": "[encoded data removed]",
      "text/plain": [
       "<Figure size 432x288 with 1 Axes>"
      ]
     },
     "metadata": {
      "needs_background": "light"
     },
     "output_type": "display_data"
    }
   ],
   "source": [
    "# Redifining x and y since the values have been changed\n",
    "x, y = load_iris(return_X_y=True)\n",
    "x=x[:100, :2] # class 0 and 1 balanced\n",
    "y=y[:100]\n",
    "draw_decision_boudary(final_theta,x,y)"
   ]
  }
 ],
 "metadata": {
  "colab": {
   "collapsed_sections": [],
   "name": "Copy of CS584_Assignment2.ipynb",
   "provenance": []
  },
  "kernelspec": {
   "display_name": "Python 3",
   "language": "python",
   "name": "python3"
  },
  "language_info": {
   "codemirror_mode": {
    "name": "ipython",
    "version": 3
   },
   "file_extension": ".py",
   "mimetype": "text/x-python",
   "name": "python",
   "nbconvert_exporter": "python",
   "pygments_lexer": "ipython3",
   "version": "3.8.3"
  },
  "pycharm": {
   "stem_cell": {
    "cell_type": "raw",
    "metadata": {
     "collapsed": false
    },
    "source": []
   }
  }
 },
 "nbformat": 4,
 "nbformat_minor": 1
}
