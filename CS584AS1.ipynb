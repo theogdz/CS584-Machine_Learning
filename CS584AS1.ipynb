{
  "nbformat": 4,
  "nbformat_minor": 0,
  "metadata": {
    "colab": {
      "name": "CS584AS1.ipynb",
      "provenance": [],
      "collapsed_sections": []
    },
    "kernelspec": {
      "name": "python3",
      "display_name": "Python 3"
    },
    "accelerator": "GPU"
  },
  "cells": [
    {
      "cell_type": "code",
      "metadata": {
        "id": "YsXcsN7977nt"
      },
      "source": [
        "# load required library\r\n",
        "from sklearn.datasets import load_diabetes\r\n",
        "import matplotlib.pyplot as plt\r\n",
        "import numpy as np\r\n",
        "\r\n",
        "def load_dataset():\r\n",
        "    '''\r\n",
        "    ** Do not modify this function. **\r\n",
        "    Load diabetes dataset. We only use one feature and 60 instances.\r\n",
        "    '''\r\n",
        "\r\n",
        "    X, y = load_diabetes(return_X_y=True)\r\n",
        "    return X[:60, 2], y[:60]"
      ],
      "execution_count": null,
      "outputs": []
    },
    {
      "cell_type": "code",
      "metadata": {
        "id": "jQvBNWOHDSwf"
      },
      "source": [
        "def plot_data(X, y):\r\n",
        "    '''\r\n",
        "    Draw scatter plot using raw data.\r\n",
        "    '''\r\n",
        "    #########################################################################\r\n",
        "    # Full Mark: 10                                                         #\r\n",
        "    # TODO:                                                                 #\r\n",
        "    # 1. make a scatter plot of the raw data                                #\r\n",
        "    # 2. set title for the plot                                             #\r\n",
        "    # 3. set label for X,y axis                                             #\r\n",
        "    # e.g.,                                                                 #\r\n",
        "    #https://matplotlib.org/3.2.0/api/_as_gen/matplotlib.pyplot.scatter.html#\r\n",
        "    #########################################################################\r\n",
        "    plt.scatter(X,y)\r\n",
        "    plt.title(\"Dataset\")\r\n",
        "    plt.xlabel(\"Normalized BMI\")\r\n",
        "    plt.ylabel(\"Target\")\r\n",
        "    plt.grid()\r\n",
        "\r\n",
        "\r\n",
        "    #########################################################################\r\n",
        "    #                       END OF YOUR CODE                                #\r\n",
        "    #########################################################################\r\n",
        "\r\n",
        "    # return the plt object\r\n",
        "    return plt"
      ],
      "execution_count": null,
      "outputs": []
    },
    {
      "cell_type": "code",
      "metadata": {
        "id": "blzw3mc98G2B"
      },
      "source": [
        "\r\n",
        "def train_test_split(X, y):\r\n",
        "    '''\r\n",
        "    Randomly split data into train and test set.\r\n",
        "    Two thirds of the raw data will be the train set and one third of the raw data will be the test set.\r\n",
        "    '''\r\n",
        "    ######################################################################################\r\n",
        "    # Full Mark: 10                                                                      #\r\n",
        "    # TODO:                                                                              #\r\n",
        "    # 1. shuffle the indices of data first.                                              #\r\n",
        "    # (Hint: use numpy.arange and numpy.random.shuffle)                                  #\r\n",
        "    # 2. select two thirds of the data as train set, the rest of data as test set.       #\r\n",
        "    ######################################################################################\r\n",
        "    length = len(X)\r\n",
        "    # Transform the array in nparray\r\n",
        "    xnp = np.array(X)\r\n",
        "    ynp = np.array(y)\r\n",
        "    # Shuffle the indices for x and y dataset\r\n",
        "    s = np.arange(xnp.shape[0])\r\n",
        "    np.random.shuffle(s)\r\n",
        "    # Shuffle both dataset using the same index shuffled\r\n",
        "    xnp = xnp[s]\r\n",
        "    ynp = ynp[s]\r\n",
        "    # Split the dataset in X_train, X_test, y_train, y_test\r\n",
        "    X_test , y_test = xnp[:length//3] , ynp[:length//3] # xnp[:int(length/3)]\r\n",
        "    X_train , y_train = xnp[length//3:] , ynp[length//3:]\r\n",
        "\r\n",
        "    #########################################################################\r\n",
        "    #                       END OF YOUR CODE                                #\r\n",
        "    #########################################################################\r\n",
        "    \r\n",
        "    return X_train, X_test, y_train, y_test\r\n"
      ],
      "execution_count": null,
      "outputs": []
    },
    {
      "cell_type": "code",
      "metadata": {
        "id": "8LBrxBJDDXEB"
      },
      "source": [
        "def cost_function(weights, X, y):\r\n",
        "    '''\r\n",
        "    Define the cost function.\r\n",
        "    '''\r\n",
        "\r\n",
        "    #########################################################################\r\n",
        "    # Full Mark: 25                                                         #\r\n",
        "    # TODO:                                                                 #\r\n",
        "    # Implement the Mean Square Error function:                             #\r\n",
        "    # https://en.wikipedia.org/wiki/Mean_squared_error#Mean                 #\r\n",
        "    #                                                                       #\r\n",
        "    # (Hint: Use numpy functions)                                           #\r\n",
        "    #########################################################################\r\n",
        "    weights = np.array(weights)\r\n",
        "    X = np.array(X)\r\n",
        "    y = np.array(y)\r\n",
        "    # Assuming no bias, Predicted value1 = w1 * X1\r\n",
        "    Y_pred =[]\r\n",
        "    for i in range(len(X)):\r\n",
        "      a = X[i][0]*weights[0] + X[i][1]*weights[1]\r\n",
        "      Y_pred.append(a)\r\n",
        "    Y_pred = np.array(Y_pred)\r\n",
        "    cost = np.square(np.subtract(y,Y_pred)).mean()\r\n",
        "\r\n",
        "    #########################################################################\r\n",
        "    #                       END OF YOUR CODE                                #\r\n",
        "    #########################################################################\r\n",
        "\r\n",
        "    # return cost\r\n",
        "    return cost"
      ],
      "execution_count": null,
      "outputs": []
    },
    {
      "cell_type": "code",
      "metadata": {
        "id": "rq3ldZLzDcAk"
      },
      "source": [
        "def gradient_descent(weights, X, y):\r\n",
        "    '''\r\n",
        "    Update weights using gradient descent algorithm.\r\n",
        "    '''\r\n",
        "\r\n",
        "    # define your learning_rate and epoch\r\n",
        "    lr = 0.1\r\n",
        "    epoch = 20000\r\n",
        "    \r\n",
        "    # define cost\r\n",
        "    cost_list = []\r\n",
        "    m = len(X)\r\n",
        "    # for loop\r\n",
        "    for it in range(epoch):\r\n",
        "        #########################################################################\r\n",
        "        # Full Mark: 25                                                         #\r\n",
        "        # TODO:                                                                 #\r\n",
        "        # 1. update weights with learning rate lr                               #\r\n",
        "        # 2. append the updated cost to cost list                               #\r\n",
        "        # (Hint: Use numpy functions)                                           #\r\n",
        "        #########################################################################\r\n",
        "        prediction = np.dot(X,weights)\r\n",
        "        weights -= (2/m)*lr*(X.T.dot((prediction - y)))\r\n",
        "        cost_list.append(cost_function(weights,X,y))\r\n",
        "        #########################################################################\r\n",
        "        #                       END OF YOUR CODE                                #\r\n",
        "        #########################################################################\r\n",
        "        \r\n",
        "    # return updated weights and cost list\r\n",
        "    return weights, cost_list"
      ],
      "execution_count": null,
      "outputs": []
    },
    {
      "cell_type": "code",
      "metadata": {
        "id": "qFKp27OVDfcu"
      },
      "source": [
        "def plot_iteration(cost, epoch=20000):\r\n",
        "    '''\r\n",
        "    Plot the cost for each iteration.\r\n",
        "    '''\r\n",
        "\r\n",
        "    #########################################################################\r\n",
        "    # Full Mark: 10                                                         #\r\n",
        "    # TODO:                                                                 #\r\n",
        "    # 1. plot the cost for each iteration                                   #\r\n",
        "    # 2. set title and labels for the plot                                  #\r\n",
        "    # (Hint: Use plt.plot function to plot and range(n))                    #\r\n",
        "    #########################################################################\r\n",
        "    plt.plot(range(epoch),cost)\r\n",
        "    plt.title(\"Visualizing cost function over epochs\")\r\n",
        "    plt.xlabel(\"Epochs\")\r\n",
        "    plt.ylabel(\"Cost\")\r\n",
        "    \r\n",
        "    #########################################################################\r\n",
        "    #                       END OF YOUR CODE                                #\r\n",
        "    #########################################################################\r\n",
        "    \r\n",
        "    # show plot\r\n",
        "    plt.show()"
      ],
      "execution_count": null,
      "outputs": []
    },
    {
      "cell_type": "code",
      "metadata": {
        "id": "f6iuQPZ6DmXL"
      },
      "source": [
        "def plot_final(weights, X, y):\r\n",
        "    '''\r\n",
        "    Draw the simple linear regression model.\r\n",
        "    '''\r\n",
        "\r\n",
        "    # draw the raw data first\r\n",
        "    model_plot = plot_data(X, y)\r\n",
        "\r\n",
        "    #########################################################################\r\n",
        "    # Full Mark: 10                                                         #\r\n",
        "    # TODO:                                                                 #\r\n",
        "    # 1. create a series of x coordinates in proper range.                  #\r\n",
        "    # (Hint: use numpy.arange)                                              #\r\n",
        "    # 2. calculate y coordinates:                                           #\r\n",
        "    #                         y = w * X + b                                 #\r\n",
        "    # 3. plot the curve and set title                                       #\r\n",
        "    #########################################################################\r\n",
        "    plot_x = np.arange(min(X), max(X), 0.01)\r\n",
        "    plot_y = (weights[1] * plot_x) + weights[0]\r\n",
        "    plt.title(\"Linear regression model\")\r\n",
        "    plt.xlabel(\"Input\")\r\n",
        "    plt.ylabel(\"Outpu\")\r\n",
        "    model_plot.plot(plot_x, plot_y)\r\n",
        "\r\n",
        "\r\n",
        "    #########################################################################\r\n",
        "    #                       END OF YOUR CODE                                #\r\n",
        "    #########################################################################\r\n",
        "\r\n",
        "    # show plot\r\n",
        "    model_plot.show()"
      ],
      "execution_count": null,
      "outputs": []
    },
    {
      "cell_type": "code",
      "metadata": {
        "id": "GLmFV9yzDpqh"
      },
      "source": [
        "def print_test_error(weights, X, y_true):\r\n",
        "    '''\r\n",
        "    Use optimized weights to predict y, and print test error.\r\n",
        "    '''\r\n",
        "\r\n",
        "    #########################################################################\r\n",
        "    # Full Mark: 10                                                         #\r\n",
        "    # TODO:                                                                 #\r\n",
        "    # 1. predict the target value y of X:                                   #\r\n",
        "    #                            y = w * X + b                              #\r\n",
        "    # 2. calculate the Mean Square Error using true y and predicted y       #\r\n",
        "    #########################################################################\r\n",
        "    predicted_y = (weights[1] * X) + weights[0]\r\n",
        "    error = (1/len(X)) * np.sum(np.square(predicted_y - y_true))\r\n",
        "    \r\n",
        "    #########################################################################\r\n",
        "    #                       END OF YOUR CODE                                #\r\n",
        "    #########################################################################\r\n",
        "\r\n",
        "    # print test error\r\n",
        "    print(\"Test error: %.4f\" % error)\r\n",
        "    return error"
      ],
      "execution_count": null,
      "outputs": []
    },
    {
      "cell_type": "code",
      "metadata": {
        "id": "op9MUtmo-GeK",
        "colab": {
          "base_uri": "https://localhost:8080/",
          "height": 886
        },
        "outputId": "28c36196-06dd-4dc2-c58e-32e3688299da"
      },
      "source": [
        "def main():\r\n",
        "    '''\r\n",
        "    ** Do not modify this function. **\r\n",
        "    '''\r\n",
        "\r\n",
        "    # Plot raw data points\r\n",
        "    X, y = load_dataset()\r\n",
        "    plot = plot_data(X, y)\r\n",
        "    plot.show()\r\n",
        "\r\n",
        "    # Split train and test set\r\n",
        "    X = np.c_[np.ones(X.size), X]\r\n",
        "    X_train, X_test, y_train, y_test = train_test_split(X, y)\r\n",
        "\r\n",
        "    # initialize weight\r\n",
        "    weights = np.ones(X_train.shape[1])\r\n",
        "\r\n",
        "    # calculate training cost\r\n",
        "    init_cost = cost_function(weights, X_train, y_train)\r\n",
        "    print(\"Initial cost: %.4f\" % init_cost)\r\n",
        "\r\n",
        "    # gradient descent to find the optimal fit\r\n",
        "    weights, cost_list = gradient_descent(weights, X_train, y_train)\r\n",
        "\r\n",
        "    # draw the cost change for iterations\r\n",
        "    plot_iteration(cost_list)\r\n",
        "\r\n",
        "    # draw the final linear model\r\n",
        "    # it is shown as a red line, you can change the color anyway\r\n",
        "    plot_final(weights, X_train[:, 1], y_train)\r\n",
        "\r\n",
        "    # Print test error\r\n",
        "    print_test_error(weights, X_test[:, 1], y_test)\r\n",
        "\r\n",
        "\r\n",
        "if __name__ == '__main__':\r\n",
        "    main()"
      ],
      "execution_count": null,
      "outputs": [
        {
          "output_type": "display_data",
          "data": {
            "image/png": "[encoded data removed]",
            "text/plain": [
              "<Figure size 432x288 with 1 Axes>"
            ]
          },
          "metadata": {
            "tags": [],
            "needs_background": "light"
          }
        },
        {
          "output_type": "stream",
          "text": [
            "Initial cost: 27331.5302\n"
          ],
          "name": "stdout"
        },
        {
          "output_type": "display_data",
          "data": {
            "image/png": "[encoded data removed]",
            "text/plain": [
              "<Figure size 432x288 with 1 Axes>"
            ]
          },
          "metadata": {
            "tags": [],
            "needs_background": "light"
          }
        },
        {
          "output_type": "display_data",
          "data": {
            "image/png": "[encoded data removed]",
            "text/plain": [
              "<Figure size 432x288 with 1 Axes>"
            ]
          },
          "metadata": {
            "tags": [],
            "needs_background": "light"
          }
        },
        {
          "output_type": "stream",
          "text": [
            "Test error: 2833.2109\n"
          ],
          "name": "stdout"
        }
      ]
    }
  ]
}